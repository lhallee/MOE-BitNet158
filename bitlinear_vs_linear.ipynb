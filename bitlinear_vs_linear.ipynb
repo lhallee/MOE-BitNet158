{
 "cells": [
  {
   "cell_type": "code",
   "execution_count": 18,
   "metadata": {},
   "outputs": [],
   "source": [
    "import time\n",
    "import torch\n",
    "import torch.nn as nn\n",
    "import torch.nn.functional as F\n",
    "import itertools\n",
    "from tabulate import tabulate\n",
    "from tqdm.auto import tqdm\n",
    "\n",
    "from models.bitlinear import BitLinear"
   ]
  },
  {
   "cell_type": "code",
   "execution_count": 19,
   "metadata": {},
   "outputs": [
    {
     "data": {
      "application/vnd.jupyter.widget-view+json": {
       "model_id": "82bf5121374b4d079da621ef4415bced",
       "version_major": 2,
       "version_minor": 0
      },
      "text/plain": [
       "  0%|          | 0/9 [00:00<?, ?it/s]"
      ]
     },
     "metadata": {},
     "output_type": "display_data"
    },
    {
     "data": {
      "application/vnd.jupyter.widget-view+json": {
       "model_id": "acdd5a7cb1564d19a2e56a7ec89948cb",
       "version_major": 2,
       "version_minor": 0
      },
      "text/plain": [
       "  0%|          | 0/9 [00:00<?, ?it/s]"
      ]
     },
     "metadata": {},
     "output_type": "display_data"
    },
    {
     "name": "stdout",
     "output_type": "stream",
     "text": [
      "Speed comparison matrix:\n",
      "+--------------+----------+-------------+\n",
      "| Input Size   |   Linear |   BitLinear |\n",
      "+==============+==========+=============+\n",
      "| (1, 64)      |  3.4e-05 |    0.000438 |\n",
      "+--------------+----------+-------------+\n",
      "| (1, 640)     |  3.7e-05 |    0.000496 |\n",
      "+--------------+----------+-------------+\n",
      "| (1, 6400)    |  3.3e-05 |    0.000529 |\n",
      "+--------------+----------+-------------+\n",
      "| (8, 64)      |  3.6e-05 |    0.000451 |\n",
      "+--------------+----------+-------------+\n",
      "| (8, 640)     |  3.7e-05 |    0.000463 |\n",
      "+--------------+----------+-------------+\n",
      "| (8, 6400)    |  3.8e-05 |    0.000463 |\n",
      "+--------------+----------+-------------+\n",
      "| (128, 64)    |  3.3e-05 |    0.00045  |\n",
      "+--------------+----------+-------------+\n",
      "| (128, 640)   |  3.8e-05 |    0.000478 |\n",
      "+--------------+----------+-------------+\n",
      "| (128, 6400)  |  3.5e-05 |    0.000531 |\n",
      "+--------------+----------+-------------+\n",
      "+--------------+----------+-------------+\n",
      "| Input Size   |   Linear |   BitLinear |\n",
      "+==============+==========+=============+\n",
      "| Linear       |     1    |        0.07 |\n",
      "+--------------+----------+-------------+\n",
      "| BitLinear    |    13.35 |        1    |\n",
      "+--------------+----------+-------------+\n"
     ]
    }
   ],
   "source": [
    "def test_forward_speed(layer_class, input_sizes, num_runs=100):\n",
    "    device = torch.device(\"cuda\" if torch.cuda.is_available() else \"cpu\")\n",
    "    results = {}\n",
    "\n",
    "    for size in tqdm(input_sizes):\n",
    "        in_features = size[-1]\n",
    "        out_features = size[-1]\n",
    "        layer = layer_class(in_features, out_features).to(device)\n",
    "        input_tensor = torch.randn(size).to(device)\n",
    "\n",
    "        # Warm-up run\n",
    "        _ = layer(input_tensor)\n",
    "\n",
    "        # Timing runs\n",
    "        times = []\n",
    "        for _ in range(num_runs):\n",
    "            start_time = time.perf_counter()\n",
    "            _ = layer(input_tensor)\n",
    "            end_time = time.perf_counter()\n",
    "            times.append(end_time - start_time)\n",
    "\n",
    "        avg_time = sum(times) / num_runs\n",
    "        results[size] = avg_time\n",
    "\n",
    "    return results\n",
    "\n",
    "# Example usage\n",
    "input_sizes = [\n",
    "    (1, 64),\n",
    "    (1, 640),\n",
    "    (1, 6400),\n",
    "    (8, 64),\n",
    "    (8, 640),\n",
    "    (8, 6400),\n",
    "    (128, 64),\n",
    "    (128, 640),\n",
    "    (128, 6400),\n",
    "]\n",
    "\n",
    "layer_classes = [nn.Linear, BitLinear]  # Add more layer classes as needed\n",
    "layer_results = {}\n",
    "\n",
    "for layer_class in layer_classes:\n",
    "    layer_results[layer_class.__name__] = test_forward_speed(layer_class, input_sizes)\n",
    "\n",
    "print(\"Speed comparison matrix:\")\n",
    "headers = [\"Input Size\"] + [cls.__name__ for cls in layer_classes]\n",
    "table_data = []\n",
    "\n",
    "for size in input_sizes:\n",
    "    row = [str(size)]\n",
    "    for layer_class in layer_classes:\n",
    "        row.append(f\"{layer_results[layer_class.__name__][size]:.6f}\")\n",
    "    table_data.append(row)\n",
    "\n",
    "print(tabulate(table_data, headers, tablefmt=\"grid\"))\n",
    "\n",
    "table_data = []\n",
    "for layer1 in layer_classes:\n",
    "    row = [layer1.__name__]\n",
    "    for layer2 in layer_classes:\n",
    "        if layer1 == layer2:\n",
    "            row.append(\"1.00\")\n",
    "        else:\n",
    "            time1_sum = sum(layer_results[layer1.__name__].values())\n",
    "            time2_sum = sum(layer_results[layer2.__name__].values())\n",
    "            ratio = time1_sum / time2_sum\n",
    "            row.append(f\"{ratio:.2f}\")\n",
    "    table_data.append(row)\n",
    "\n",
    "print(tabulate(table_data, headers, tablefmt=\"grid\"))"
   ]
  },
  {
   "cell_type": "code",
   "execution_count": null,
   "metadata": {},
   "outputs": [],
   "source": []
  }
 ],
 "metadata": {
  "kernelspec": {
   "display_name": "Python 3",
   "language": "python",
   "name": "python3"
  },
  "language_info": {
   "codemirror_mode": {
    "name": "ipython",
    "version": 3
   },
   "file_extension": ".py",
   "mimetype": "text/x-python",
   "name": "python",
   "nbconvert_exporter": "python",
   "pygments_lexer": "ipython3",
   "version": "3.12.1"
  }
 },
 "nbformat": 4,
 "nbformat_minor": 2
}
