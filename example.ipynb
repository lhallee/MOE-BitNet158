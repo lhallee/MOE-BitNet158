{
 "cells": [
  {
   "cell_type": "code",
   "execution_count": 1,
   "metadata": {},
   "outputs": [],
   "source": [
    "import torch\n",
    "from transformers import LlamaTokenizer\n",
    "\n",
    "from utils import get_yaml\n",
    "from models.config import BitformerConfig\n",
    "from models.model_zoo import BitformerForLM"
   ]
  },
  {
   "cell_type": "code",
   "execution_count": 2,
   "metadata": {},
   "outputs": [],
   "source": [
    "device = torch.device('cuda' if torch.cuda.is_available() else 'cpu')\n",
    "tokenizer = LlamaTokenizer.from_pretrained('meta-llama/Llama-2-7b-chat-hf', legacy=True)"
   ]
  },
  {
   "cell_type": "code",
   "execution_count": 3,
   "metadata": {},
   "outputs": [],
   "source": [
    "yargs = get_yaml('yamls/small_bitformer.yaml')\n",
    "cfg = BitformerConfig(**yargs['model_config'])\n",
    "cfg.bos_token_id = tokenizer.bos_token_id\n",
    "cfg.eos_token_id = tokenizer.eos_token_id\n",
    "cfg.pad_token_id = tokenizer.pad_token_id"
   ]
  },
  {
   "cell_type": "code",
   "execution_count": 4,
   "metadata": {},
   "outputs": [
    {
     "name": "stdout",
     "output_type": "stream",
     "text": [
      "BitformerForLM(\n",
      "  (model): BitformerModel(\n",
      "    (embed_tokens): Embedding(32000, 512)\n",
      "    (layers): ModuleList(\n",
      "      (0-11): 12 x BitformerLayer(\n",
      "        (self_attn): SelfAttention(\n",
      "          (q_proj): BitLinear(\n",
      "            in_features=512, out_features=512, bias=False\n",
      "            (rms_norm): RMSNorm()\n",
      "          )\n",
      "          (k_proj): BitLinear(\n",
      "            in_features=512, out_features=512, bias=False\n",
      "            (rms_norm): RMSNorm()\n",
      "          )\n",
      "          (v_proj): BitLinear(\n",
      "            in_features=512, out_features=512, bias=False\n",
      "            (rms_norm): RMSNorm()\n",
      "          )\n",
      "          (o_proj): BitLinear(\n",
      "            in_features=512, out_features=512, bias=False\n",
      "            (rms_norm): RMSNorm()\n",
      "          )\n",
      "          (rotary_emb): RotaryEmbedding()\n",
      "        )\n",
      "        (MLP): TokenTopKMoeBlock(\n",
      "          (router): Linear(in_features=512, out_features=4, bias=False)\n",
      "          (experts): ModuleList(\n",
      "            (0-3): 4 x MLP(\n",
      "              (w1): BitLinear(\n",
      "                in_features=512, out_features=2048, bias=False\n",
      "                (rms_norm): RMSNorm()\n",
      "              )\n",
      "              (w2): BitLinear(\n",
      "                in_features=2048, out_features=512, bias=False\n",
      "                (rms_norm): RMSNorm()\n",
      "              )\n",
      "              (w3): BitLinear(\n",
      "                in_features=512, out_features=2048, bias=False\n",
      "                (rms_norm): RMSNorm()\n",
      "              )\n",
      "            )\n",
      "          )\n",
      "        )\n",
      "        (input_layernorm): RMSNorm()\n",
      "        (post_attention_layernorm): RMSNorm()\n",
      "      )\n",
      "    )\n",
      "    (norm): RMSNorm()\n",
      "  )\n",
      "  (lm_head): Linear(in_features=512, out_features=32000, bias=False)\n",
      ")\n",
      "{'input_ids': tensor([[    1, 15043,  3186]], device='cuda:0'), 'attention_mask': tensor([[1, 1, 1]], device='cuda:0')}\n"
     ]
    },
    {
     "name": "stderr",
     "output_type": "stream",
     "text": [
      "The attention mask and the pad token id were not set. As a consequence, you may observe unexpected behavior. Please pass your input's `attention_mask` to obtain reliable results.\n",
      "Setting `pad_token_id` to `eos_token_id`:2 for open-end generation.\n"
     ]
    },
    {
     "name": "stdout",
     "output_type": "stream",
     "text": [
      "tensor(10.9279, device='cuda:0', grad_fn=<AddBackward0>)\n",
      "tensor(2.1160, device='cuda:0', grad_fn=<MulBackward0>)\n",
      "torch.Size([1, 3, 32000])\n",
      "torch.Size([1, 3, 512])\n",
      "torch.Size([1, 8, 3, 3])\n",
      "torch.Size([3, 4])\n",
      "<s>Hello world solid KnoB Nations Objectńska attr Apache playingugg listopada Objectsuper Writ Staff neglectobjects dicembre externeчни\n"
     ]
    }
   ],
   "source": [
    "# GPT-like\n",
    "cfg.is_causal = True\n",
    "cfg.output_router_logits = False # needs to be False if going to use .generate\n",
    "model = BitformerForLM(config=cfg).to(device)\n",
    "print(model)\n",
    "input = tokenizer('Hello world', return_tensors='pt')\n",
    "input = {k:v.to(device) for k,v in input.items()}\n",
    "print(input)\n",
    "out = model(**input,\n",
    "            labels=input['input_ids'],\n",
    "            output_hidden_states=True,\n",
    "            output_attentions=True,\n",
    "            output_router_logits=cfg.moe # set to true to get aux loss\n",
    "            )\n",
    "print(out.loss)\n",
    "print(out.aux_loss)\n",
    "print(out.logits.shape)\n",
    "print(out.hidden_states[0].shape)\n",
    "print(out.attentions[0].shape)\n",
    "print(out.router_logits[0].shape)\n",
    "gen = model.generate(input['input_ids'], max_new_tokens=20)\n",
    "print(tokenizer.decode(gen[0])) # random because random weights"
   ]
  },
  {
   "cell_type": "code",
   "execution_count": 5,
   "metadata": {},
   "outputs": [
    {
     "name": "stdout",
     "output_type": "stream",
     "text": [
      "BitformerForLM(\n",
      "  (model): BitformerModel(\n",
      "    (embed_tokens): Embedding(32000, 512)\n",
      "    (layers): ModuleList(\n",
      "      (0-11): 12 x BitformerLayer(\n",
      "        (self_attn): SelfAttention(\n",
      "          (q_proj): BitLinear(\n",
      "            in_features=512, out_features=512, bias=False\n",
      "            (rms_norm): RMSNorm()\n",
      "          )\n",
      "          (k_proj): BitLinear(\n",
      "            in_features=512, out_features=512, bias=False\n",
      "            (rms_norm): RMSNorm()\n",
      "          )\n",
      "          (v_proj): BitLinear(\n",
      "            in_features=512, out_features=512, bias=False\n",
      "            (rms_norm): RMSNorm()\n",
      "          )\n",
      "          (o_proj): BitLinear(\n",
      "            in_features=512, out_features=512, bias=False\n",
      "            (rms_norm): RMSNorm()\n",
      "          )\n",
      "          (rotary_emb): RotaryEmbedding()\n",
      "        )\n",
      "        (MLP): SentenceTopKMoeBlock(\n",
      "          (router): Linear(in_features=512, out_features=4, bias=False)\n",
      "          (experts): ModuleList(\n",
      "            (0-3): 4 x MLP(\n",
      "              (w1): BitLinear(\n",
      "                in_features=512, out_features=2048, bias=False\n",
      "                (rms_norm): RMSNorm()\n",
      "              )\n",
      "              (w2): BitLinear(\n",
      "                in_features=2048, out_features=512, bias=False\n",
      "                (rms_norm): RMSNorm()\n",
      "              )\n",
      "              (w3): BitLinear(\n",
      "                in_features=512, out_features=2048, bias=False\n",
      "                (rms_norm): RMSNorm()\n",
      "              )\n",
      "            )\n",
      "          )\n",
      "        )\n",
      "        (input_layernorm): RMSNorm()\n",
      "        (post_attention_layernorm): RMSNorm()\n",
      "      )\n",
      "    )\n",
      "    (norm): RMSNorm()\n",
      "  )\n",
      "  (lm_head): Linear(in_features=512, out_features=32000, bias=False)\n",
      ")\n",
      "{'input_ids': tensor([[    1, 15043,  3186]], device='cuda:0'), 'attention_mask': tensor([[1, 1, 1]], device='cuda:0')}\n",
      "tensor(10.5039, device='cuda:0', grad_fn=<AddBackward0>)\n",
      "tensor(2.0301, device='cuda:0', grad_fn=<MulBackward0>)\n",
      "torch.Size([1, 3, 32000])\n",
      "torch.Size([1, 3, 512])\n",
      "torch.Size([1, 8, 3, 3])\n",
      "torch.Size([1, 4])\n"
     ]
    }
   ],
   "source": [
    "# BERT-like\n",
    "cfg.is_causal = False\n",
    "cfg.output_router_logits = False # needs to be False if going to use .generate\n",
    "model = BitformerForLM(config=cfg).to(device)\n",
    "print(model)\n",
    "input = tokenizer('Hello world', return_tensors='pt')\n",
    "input = {k:v.to(device) for k,v in input.items()}\n",
    "print(input)\n",
    "out = model(**input,\n",
    "            labels=input['input_ids'],\n",
    "            output_hidden_states=True,\n",
    "            output_attentions=True,\n",
    "            output_router_logits=cfg.moe # set to true to get aux loss\n",
    "            )\n",
    "print(out.loss)\n",
    "print(out.aux_loss)\n",
    "print(out.logits.shape)\n",
    "print(out.hidden_states[0].shape)\n",
    "print(out.attentions[0].shape)\n",
    "print(out.router_logits[0].shape)"
   ]
  }
 ],
 "metadata": {
  "kernelspec": {
   "display_name": "Python 3",
   "language": "python",
   "name": "python3"
  },
  "language_info": {
   "codemirror_mode": {
    "name": "ipython",
    "version": 3
   },
   "file_extension": ".py",
   "mimetype": "text/x-python",
   "name": "python",
   "nbconvert_exporter": "python",
   "pygments_lexer": "ipython3",
   "version": "3.12.1"
  }
 },
 "nbformat": 4,
 "nbformat_minor": 2
}
