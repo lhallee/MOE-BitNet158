{
 "cells": [
  {
   "cell_type": "code",
   "execution_count": 2,
   "metadata": {},
   "outputs": [],
   "source": [
    "import torch\n",
    "from config import BitformerConfig\n",
    "from bitformer import BitformerForLM\n",
    "from transformers import LlamaTokenizer\n",
    "device = torch.device('cuda' if torch.cuda.is_available() else 'cpu')"
   ]
  },
  {
   "cell_type": "code",
   "execution_count": 30,
   "metadata": {},
   "outputs": [
    {
     "data": {
      "text/plain": [
       "BitformerForLM(\n",
       "  (model): BitformerModel(\n",
       "    (embed_tokens): Embedding(32000, 256)\n",
       "    (layers): ModuleList(\n",
       "      (0-5): 6 x BitformerLayer(\n",
       "        (self_attn): SelfAttention(\n",
       "          (q_proj): BitLinear(\n",
       "            in_features=256, out_features=256, bias=False\n",
       "            (norm): LayerNorm((256,), eps=1e-05, elementwise_affine=True)\n",
       "          )\n",
       "          (k_proj): BitLinear(\n",
       "            in_features=256, out_features=256, bias=False\n",
       "            (norm): LayerNorm((256,), eps=1e-05, elementwise_affine=True)\n",
       "          )\n",
       "          (v_proj): BitLinear(\n",
       "            in_features=256, out_features=256, bias=False\n",
       "            (norm): LayerNorm((256,), eps=1e-05, elementwise_affine=True)\n",
       "          )\n",
       "          (o_proj): BitLinear(\n",
       "            in_features=256, out_features=256, bias=False\n",
       "            (norm): LayerNorm((256,), eps=1e-05, elementwise_affine=True)\n",
       "          )\n",
       "          (rotary_emb): RotaryEmbedding()\n",
       "        )\n",
       "        (MLP): TokenTopKMoeBlock(\n",
       "          (router): Linear(in_features=256, out_features=4, bias=False)\n",
       "          (experts): ModuleList(\n",
       "            (0-3): 4 x MLP(\n",
       "              (w1): BitLinear(\n",
       "                in_features=256, out_features=1024, bias=False\n",
       "                (norm): LayerNorm((256,), eps=1e-05, elementwise_affine=True)\n",
       "              )\n",
       "              (w2): BitLinear(\n",
       "                in_features=1024, out_features=256, bias=False\n",
       "                (norm): LayerNorm((1024,), eps=1e-05, elementwise_affine=True)\n",
       "              )\n",
       "              (w3): BitLinear(\n",
       "                in_features=256, out_features=1024, bias=False\n",
       "                (norm): LayerNorm((256,), eps=1e-05, elementwise_affine=True)\n",
       "              )\n",
       "            )\n",
       "          )\n",
       "        )\n",
       "        (input_layernorm): RMSNorm()\n",
       "        (post_attention_layernorm): RMSNorm()\n",
       "      )\n",
       "    )\n",
       "    (norm): RMSNorm()\n",
       "  )\n",
       "  (lm_head): Linear(in_features=256, out_features=32000, bias=False)\n",
       ")"
      ]
     },
     "execution_count": 30,
     "metadata": {},
     "output_type": "execute_result"
    }
   ],
   "source": [
    "tokenizer = LlamaTokenizer.from_pretrained('meta-llama/Llama-2-7b-chat-hf', legacy=True)\n",
    "cfg = BitformerConfig()\n",
    "cfg.is_causal = True\n",
    "cfg.hidden_size = 768\n",
    "cfg.intermediate_size = 2048\n",
    "cfg.num_hidden_layers = 12\n",
    "cfg.num_local_experts = 8\n",
    "cfg.num_experts_per_tok = 2\n",
    "cfg.bos_token_id = tokenizer.bos_token_id\n",
    "cfg.eos_token_id = tokenizer.eos_token_id\n",
    "cfg.pad_token_id = tokenizer.pad_token_id\n",
    "cfg.output_router_logits = False # needs to be False if going to use .generate\n",
    "model = BitformerForLM(config=cfg).to(device)\n",
    "model"
   ]
  },
  {
   "cell_type": "code",
   "execution_count": 8,
   "metadata": {},
   "outputs": [
    {
     "data": {
      "text/plain": [
       "{'input_ids': tensor([[    1, 15043,  3186]], device='cuda:0'),\n",
       " 'attention_mask': tensor([[1, 1, 1]], device='cuda:0')}"
      ]
     },
     "execution_count": 8,
     "metadata": {},
     "output_type": "execute_result"
    }
   ],
   "source": [
    "input = tokenizer('Hello world', return_tensors='pt')\n",
    "input = {k:v.to(device) for k,v in input.items()}\n",
    "input"
   ]
  },
  {
   "cell_type": "code",
   "execution_count": 14,
   "metadata": {},
   "outputs": [],
   "source": [
    "out = model(**input, output_router_logits=cfg.moe) # set to true to get aux loss"
   ]
  },
  {
   "cell_type": "code",
   "execution_count": 31,
   "metadata": {},
   "outputs": [
    {
     "name": "stderr",
     "output_type": "stream",
     "text": [
      "The attention mask and the pad token id were not set. As a consequence, you may observe unexpected behavior. Please pass your input's `attention_mask` to obtain reliable results.\n",
      "Setting `pad_token_id` to `eos_token_id`:2 for open-end generation.\n"
     ]
    }
   ],
   "source": [
    "gen = model.generate(input['input_ids'], max_new_tokens=20)"
   ]
  },
  {
   "cell_type": "code",
   "execution_count": 34,
   "metadata": {},
   "outputs": [
    {
     "data": {
      "text/plain": [
       "'<s>Hello world abol{` youngisceisceoin cru arbitrץ Febaset SendbewInputInput mentparams maintenance carriage rép'"
      ]
     },
     "execution_count": 34,
     "metadata": {},
     "output_type": "execute_result"
    }
   ],
   "source": [
    "tokenizer.decode(gen[0])"
   ]
  }
 ],
 "metadata": {
  "kernelspec": {
   "display_name": "Python 3",
   "language": "python",
   "name": "python3"
  },
  "language_info": {
   "codemirror_mode": {
    "name": "ipython",
    "version": 3
   },
   "file_extension": ".py",
   "mimetype": "text/x-python",
   "name": "python",
   "nbconvert_exporter": "python",
   "pygments_lexer": "ipython3",
   "version": "3.12.1"
  }
 },
 "nbformat": 4,
 "nbformat_minor": 2
}
