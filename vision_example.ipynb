{
 "cells": [
  {
   "cell_type": "code",
   "execution_count": 1,
   "metadata": {},
   "outputs": [],
   "source": [
    "import torch\n",
    "from config import BitformerConfig\n",
    "from model_zoo import VisionBitformerForImageClassification, VisionBitformerForSemanticSegmentation\n",
    "from metrics import compute_metrics_single_label_classification\n",
    "from trainer import get_trainer\n",
    "from data_zoo import get_vision_dataset, vision_collator\n",
    "from utils import get_yaml"
   ]
  },
  {
   "cell_type": "code",
   "execution_count": 9,
   "metadata": {},
   "outputs": [],
   "source": [
    "yaml_path = './yamls/vision/small.yaml'\n",
    "args = get_yaml(yaml_path)"
   ]
  },
  {
   "cell_type": "code",
   "execution_count": 10,
   "metadata": {},
   "outputs": [],
   "source": [
    "args['model_config']['bitnet'] = False"
   ]
  },
  {
   "cell_type": "code",
   "execution_count": 11,
   "metadata": {},
   "outputs": [
    {
     "data": {
      "text/plain": [
       "1.125852"
      ]
     },
     "execution_count": 11,
     "metadata": {},
     "output_type": "execute_result"
    }
   ],
   "source": [
    "cfg = BitformerConfig(**args['model_config'], num_labels=args['general_config']['num_labels'])\n",
    "model = VisionBitformerForImageClassification(config=cfg)\n",
    "model.num_parameters() / 1e6"
   ]
  },
  {
   "cell_type": "code",
   "execution_count": 6,
   "metadata": {},
   "outputs": [],
   "source": [
    "data_path = 'mnist'\n",
    "train_dataset, test_dataset = get_vision_dataset(data_path)"
   ]
  },
  {
   "cell_type": "code",
   "execution_count": 12,
   "metadata": {},
   "outputs": [],
   "source": [
    "trainer = get_trainer(model=model,\n",
    "                      train_dataset=train_dataset,\n",
    "                      valid_dataset=test_dataset,\n",
    "                      compute_metrics=compute_metrics_single_label_classification,\n",
    "                      data_collator=vision_collator,\n",
    "                      **args['training_args'])"
   ]
  },
  {
   "cell_type": "code",
   "execution_count": 8,
   "metadata": {},
   "outputs": [
    {
     "data": {
      "application/vnd.jupyter.widget-view+json": {
       "model_id": "7a4837c17de14f1c8d6efe943c2974a9",
       "version_major": 2,
       "version_minor": 0
      },
      "text/plain": [
       "  0%|          | 0/9380 [00:00<?, ?it/s]"
      ]
     },
     "metadata": {},
     "output_type": "display_data"
    },
    {
     "name": "stderr",
     "output_type": "stream",
     "text": [
      "Could not estimate the number of tokens of the input, floating-point operations will not be computed\n"
     ]
    },
    {
     "name": "stdout",
     "output_type": "stream",
     "text": [
      "{'loss': 1.0262, 'grad_norm': 9.93577766418457, 'learning_rate': 0.0004900072000534774, 'epoch': 1.0}\n"
     ]
    },
    {
     "data": {
      "application/vnd.jupyter.widget-view+json": {
       "model_id": "8fda52af9c0746d1a8a9f409207f5231",
       "version_major": 2,
       "version_minor": 0
      },
      "text/plain": [
       "  0%|          | 0/157 [00:00<?, ?it/s]"
      ]
     },
     "metadata": {},
     "output_type": "display_data"
    },
    {
     "name": "stdout",
     "output_type": "stream",
     "text": [
      "{'eval_loss': 0.37602370977401733, 'eval_f1': 0.893883495408736, 'eval_precision': 0.8946023146040334, 'eval_recall': 0.8938, 'eval_accuracy': 0.8938, 'eval_runtime': 2.3096, 'eval_samples_per_second': 4329.682, 'eval_steps_per_second': 67.976, 'epoch': 1.0}\n",
      "{'loss': 0.2956, 'grad_norm': 5.364155292510986, 'learning_rate': 0.00045615929491282483, 'epoch': 2.0}\n"
     ]
    },
    {
     "data": {
      "application/vnd.jupyter.widget-view+json": {
       "model_id": "fa81601bfbfe49499e2618e1d646e99b",
       "version_major": 2,
       "version_minor": 0
      },
      "text/plain": [
       "  0%|          | 0/157 [00:00<?, ?it/s]"
      ]
     },
     "metadata": {},
     "output_type": "display_data"
    },
    {
     "name": "stdout",
     "output_type": "stream",
     "text": [
      "{'eval_loss': 0.25036129355430603, 'eval_f1': 0.9231964248016667, 'eval_precision': 0.9255267189846172, 'eval_recall': 0.923, 'eval_accuracy': 0.923, 'eval_runtime': 2.2832, 'eval_samples_per_second': 4379.738, 'eval_steps_per_second': 68.762, 'epoch': 2.0}\n",
      "{'loss': 0.2084, 'grad_norm': 7.602224826812744, 'learning_rate': 0.00040169749790445905, 'epoch': 3.0}\n"
     ]
    },
    {
     "data": {
      "application/vnd.jupyter.widget-view+json": {
       "model_id": "d687b52c58d247368b206ce362cd8eed",
       "version_major": 2,
       "version_minor": 0
      },
      "text/plain": [
       "  0%|          | 0/157 [00:00<?, ?it/s]"
      ]
     },
     "metadata": {},
     "output_type": "display_data"
    },
    {
     "name": "stdout",
     "output_type": "stream",
     "text": [
      "{'eval_loss': 0.20706118643283844, 'eval_f1': 0.9355295205949226, 'eval_precision': 0.9371812994402804, 'eval_recall': 0.9357, 'eval_accuracy': 0.9357, 'eval_runtime': 2.285, 'eval_samples_per_second': 4376.43, 'eval_steps_per_second': 68.71, 'epoch': 3.0}\n",
      "{'loss': 0.1716, 'grad_norm': 2.5977115631103516, 'learning_rate': 0.0003320674504433184, 'epoch': 4.0}\n"
     ]
    },
    {
     "data": {
      "application/vnd.jupyter.widget-view+json": {
       "model_id": "5ad69a7204ec49e0b921f5395d034b25",
       "version_major": 2,
       "version_minor": 0
      },
      "text/plain": [
       "  0%|          | 0/157 [00:00<?, ?it/s]"
      ]
     },
     "metadata": {},
     "output_type": "display_data"
    },
    {
     "name": "stdout",
     "output_type": "stream",
     "text": [
      "{'eval_loss': 0.17361634969711304, 'eval_f1': 0.9454104892296056, 'eval_precision': 0.9460099056084879, 'eval_recall': 0.9455, 'eval_accuracy': 0.9455, 'eval_runtime': 2.2902, 'eval_samples_per_second': 4366.419, 'eval_steps_per_second': 68.553, 'epoch': 4.0}\n",
      "{'loss': 0.149, 'grad_norm': 4.290154457092285, 'learning_rate': 0.000254231469070671, 'epoch': 5.0}\n"
     ]
    },
    {
     "data": {
      "application/vnd.jupyter.widget-view+json": {
       "model_id": "0b1bf9c6d49b4414928f1deb43f58da3",
       "version_major": 2,
       "version_minor": 0
      },
      "text/plain": [
       "  0%|          | 0/157 [00:00<?, ?it/s]"
      ]
     },
     "metadata": {},
     "output_type": "display_data"
    },
    {
     "name": "stdout",
     "output_type": "stream",
     "text": [
      "{'eval_loss': 0.15088582038879395, 'eval_f1': 0.9516824369015485, 'eval_precision': 0.9519271828328372, 'eval_recall': 0.9517, 'eval_accuracy': 0.9517, 'eval_runtime': 2.3236, 'eval_samples_per_second': 4303.66, 'eval_steps_per_second': 67.567, 'epoch': 5.0}\n",
      "{'loss': 0.1302, 'grad_norm': 1.4680262804031372, 'learning_rate': 0.00017597238261366985, 'epoch': 6.0}\n"
     ]
    },
    {
     "data": {
      "application/vnd.jupyter.widget-view+json": {
       "model_id": "e48543fd3dba4738a8076d6b2f59499c",
       "version_major": 2,
       "version_minor": 0
      },
      "text/plain": [
       "  0%|          | 0/157 [00:00<?, ?it/s]"
      ]
     },
     "metadata": {},
     "output_type": "display_data"
    },
    {
     "name": "stdout",
     "output_type": "stream",
     "text": [
      "{'eval_loss': 0.13391393423080444, 'eval_f1': 0.9608147081632871, 'eval_precision': 0.9610814577909137, 'eval_recall': 0.9609, 'eval_accuracy': 0.9609, 'eval_runtime': 2.305, 'eval_samples_per_second': 4338.468, 'eval_steps_per_second': 68.114, 'epoch': 6.0}\n",
      "{'loss': 0.1172, 'grad_norm': 5.497124195098877, 'learning_rate': 0.00010511532622604558, 'epoch': 7.0}\n"
     ]
    },
    {
     "data": {
      "application/vnd.jupyter.widget-view+json": {
       "model_id": "3c2f4b665932406f909b716a0781eca1",
       "version_major": 2,
       "version_minor": 0
      },
      "text/plain": [
       "  0%|          | 0/157 [00:00<?, ?it/s]"
      ]
     },
     "metadata": {},
     "output_type": "display_data"
    },
    {
     "name": "stdout",
     "output_type": "stream",
     "text": [
      "{'eval_loss': 0.11935669928789139, 'eval_f1': 0.9648357512557119, 'eval_precision': 0.9649062431391936, 'eval_recall': 0.9649, 'eval_accuracy': 0.9649, 'eval_runtime': 2.3097, 'eval_samples_per_second': 4329.559, 'eval_steps_per_second': 67.974, 'epoch': 7.0}\n",
      "{'loss': 0.105, 'grad_norm': 3.51609206199646, 'learning_rate': 4.8745305214285054e-05, 'epoch': 8.0}\n"
     ]
    },
    {
     "data": {
      "application/vnd.jupyter.widget-view+json": {
       "model_id": "3070e0d582ee4f99889c30e302527694",
       "version_major": 2,
       "version_minor": 0
      },
      "text/plain": [
       "  0%|          | 0/157 [00:00<?, ?it/s]"
      ]
     },
     "metadata": {},
     "output_type": "display_data"
    },
    {
     "name": "stdout",
     "output_type": "stream",
     "text": [
      "{'eval_loss': 0.11264254152774811, 'eval_f1': 0.965095116107538, 'eval_precision': 0.9651227593491826, 'eval_recall': 0.9651, 'eval_accuracy': 0.9651, 'eval_runtime': 2.2902, 'eval_samples_per_second': 4366.514, 'eval_steps_per_second': 68.554, 'epoch': 8.0}\n",
      "{'loss': 0.0958, 'grad_norm': 5.9589457511901855, 'learning_rate': 1.2498764533288465e-05, 'epoch': 9.0}\n"
     ]
    },
    {
     "data": {
      "application/vnd.jupyter.widget-view+json": {
       "model_id": "259bce3111b04bd6999760783ec5af4e",
       "version_major": 2,
       "version_minor": 0
      },
      "text/plain": [
       "  0%|          | 0/157 [00:00<?, ?it/s]"
      ]
     },
     "metadata": {},
     "output_type": "display_data"
    },
    {
     "name": "stdout",
     "output_type": "stream",
     "text": [
      "{'eval_loss': 0.11027203500270844, 'eval_f1': 0.9656765589335883, 'eval_precision': 0.9657091150052933, 'eval_recall': 0.9657, 'eval_accuracy': 0.9657, 'eval_runtime': 2.3189, 'eval_samples_per_second': 4312.371, 'eval_steps_per_second': 67.704, 'epoch': 9.0}\n",
      "{'loss': 0.0911, 'grad_norm': 10.116697311401367, 'learning_rate': 0.0, 'epoch': 10.0}\n"
     ]
    },
    {
     "data": {
      "application/vnd.jupyter.widget-view+json": {
       "model_id": "93690c963b804db98d6d75d3ecf42608",
       "version_major": 2,
       "version_minor": 0
      },
      "text/plain": [
       "  0%|          | 0/157 [00:00<?, ?it/s]"
      ]
     },
     "metadata": {},
     "output_type": "display_data"
    },
    {
     "name": "stderr",
     "output_type": "stream",
     "text": [
      "Checkpoint destination directory ./results\\checkpoint-9380 already exists and is non-empty. Saving will proceed but saved results may be invalid.\n"
     ]
    },
    {
     "name": "stdout",
     "output_type": "stream",
     "text": [
      "{'eval_loss': 0.10906718671321869, 'eval_f1': 0.9663724522480223, 'eval_precision': 0.9664073664516587, 'eval_recall': 0.9664, 'eval_accuracy': 0.9664, 'eval_runtime': 2.2892, 'eval_samples_per_second': 4368.381, 'eval_steps_per_second': 68.584, 'epoch': 10.0}\n",
      "{'train_runtime': 267.1086, 'train_samples_per_second': 2246.278, 'train_steps_per_second': 35.117, 'train_loss': 0.23901422577880338, 'epoch': 10.0}\n"
     ]
    },
    {
     "data": {
      "application/vnd.jupyter.widget-view+json": {
       "model_id": "524a48fdc78c428ab68f241b270db614",
       "version_major": 2,
       "version_minor": 0
      },
      "text/plain": [
       "  0%|          | 0/157 [00:00<?, ?it/s]"
      ]
     },
     "metadata": {},
     "output_type": "display_data"
    },
    {
     "data": {
      "text/plain": [
       "{'eval_loss': 0.10906718671321869,\n",
       " 'eval_f1': 0.9663724522480223,\n",
       " 'eval_precision': 0.9664073664516587,\n",
       " 'eval_recall': 0.9664,\n",
       " 'eval_accuracy': 0.9664,\n",
       " 'eval_runtime': 2.3135,\n",
       " 'eval_samples_per_second': 4322.502,\n",
       " 'eval_steps_per_second': 67.863,\n",
       " 'epoch': 10.0}"
      ]
     },
     "execution_count": 8,
     "metadata": {},
     "output_type": "execute_result"
    }
   ],
   "source": [
    "trainer.train()\n",
    "trainer.evaluate()"
   ]
  },
  {
   "cell_type": "code",
   "execution_count": 13,
   "metadata": {},
   "outputs": [
    {
     "data": {
      "application/vnd.jupyter.widget-view+json": {
       "model_id": "2e0ad62d338e4eca8fadd8a89b4362ec",
       "version_major": 2,
       "version_minor": 0
      },
      "text/plain": [
       "  0%|          | 0/9380 [00:00<?, ?it/s]"
      ]
     },
     "metadata": {},
     "output_type": "display_data"
    },
    {
     "name": "stderr",
     "output_type": "stream",
     "text": [
      "Could not estimate the number of tokens of the input, floating-point operations will not be computed\n"
     ]
    },
    {
     "name": "stdout",
     "output_type": "stream",
     "text": [
      "{'loss': 0.8597, 'grad_norm': 1.9200587272644043, 'learning_rate': 0.0004900072000534774, 'epoch': 1.0}\n"
     ]
    },
    {
     "data": {
      "application/vnd.jupyter.widget-view+json": {
       "model_id": "4d8728ff736b4b27bd7521a02b7bf530",
       "version_major": 2,
       "version_minor": 0
      },
      "text/plain": [
       "  0%|          | 0/157 [00:00<?, ?it/s]"
      ]
     },
     "metadata": {},
     "output_type": "display_data"
    },
    {
     "name": "stdout",
     "output_type": "stream",
     "text": [
      "{'eval_loss': 0.3140251636505127, 'eval_f1': 0.9135553046837643, 'eval_precision': 0.9142339999560493, 'eval_recall': 0.9139, 'eval_accuracy': 0.9139, 'eval_runtime': 0.7525, 'eval_samples_per_second': 13288.821, 'eval_steps_per_second': 208.634, 'epoch': 1.0}\n",
      "{'loss': 0.2633, 'grad_norm': 1.5263727903366089, 'learning_rate': 0.00045615929491282483, 'epoch': 2.0}\n"
     ]
    },
    {
     "data": {
      "application/vnd.jupyter.widget-view+json": {
       "model_id": "17dc15f586204cd5961951d103b09958",
       "version_major": 2,
       "version_minor": 0
      },
      "text/plain": [
       "  0%|          | 0/157 [00:00<?, ?it/s]"
      ]
     },
     "metadata": {},
     "output_type": "display_data"
    },
    {
     "name": "stdout",
     "output_type": "stream",
     "text": [
      "{'eval_loss': 0.21613578498363495, 'eval_f1': 0.9358811972883226, 'eval_precision': 0.9367202103839279, 'eval_recall': 0.9359, 'eval_accuracy': 0.9359, 'eval_runtime': 0.7631, 'eval_samples_per_second': 13104.694, 'eval_steps_per_second': 205.744, 'epoch': 2.0}\n",
      "{'loss': 0.1922, 'grad_norm': 1.6930099725723267, 'learning_rate': 0.00040169749790445905, 'epoch': 3.0}\n"
     ]
    },
    {
     "data": {
      "application/vnd.jupyter.widget-view+json": {
       "model_id": "7483a5bda37947c5a06f57e9befb3401",
       "version_major": 2,
       "version_minor": 0
      },
      "text/plain": [
       "  0%|          | 0/157 [00:00<?, ?it/s]"
      ]
     },
     "metadata": {},
     "output_type": "display_data"
    },
    {
     "name": "stdout",
     "output_type": "stream",
     "text": [
      "{'eval_loss': 0.17053326964378357, 'eval_f1': 0.9475878357234756, 'eval_precision': 0.9478322857344401, 'eval_recall': 0.9476, 'eval_accuracy': 0.9476, 'eval_runtime': 0.7619, 'eval_samples_per_second': 13125.625, 'eval_steps_per_second': 206.072, 'epoch': 3.0}\n",
      "{'loss': 0.1612, 'grad_norm': 0.7695346474647522, 'learning_rate': 0.0003320674504433184, 'epoch': 4.0}\n"
     ]
    },
    {
     "data": {
      "application/vnd.jupyter.widget-view+json": {
       "model_id": "84d774b545914e53b933fedaf228ea1d",
       "version_major": 2,
       "version_minor": 0
      },
      "text/plain": [
       "  0%|          | 0/157 [00:00<?, ?it/s]"
      ]
     },
     "metadata": {},
     "output_type": "display_data"
    },
    {
     "name": "stdout",
     "output_type": "stream",
     "text": [
      "{'eval_loss': 0.15335500240325928, 'eval_f1': 0.9524743689204, 'eval_precision': 0.95299495516058, 'eval_recall': 0.9525, 'eval_accuracy': 0.9525, 'eval_runtime': 0.7715, 'eval_samples_per_second': 12962.49, 'eval_steps_per_second': 203.511, 'epoch': 4.0}\n",
      "{'loss': 0.1419, 'grad_norm': 1.5058592557907104, 'learning_rate': 0.000254231469070671, 'epoch': 5.0}\n"
     ]
    },
    {
     "data": {
      "application/vnd.jupyter.widget-view+json": {
       "model_id": "a33c833e042c4c649d6cca839fb68c40",
       "version_major": 2,
       "version_minor": 0
      },
      "text/plain": [
       "  0%|          | 0/157 [00:00<?, ?it/s]"
      ]
     },
     "metadata": {},
     "output_type": "display_data"
    },
    {
     "name": "stdout",
     "output_type": "stream",
     "text": [
      "{'eval_loss': 0.1420908421278, 'eval_f1': 0.9574239546636701, 'eval_precision': 0.9578308720308931, 'eval_recall': 0.9574, 'eval_accuracy': 0.9574, 'eval_runtime': 0.7818, 'eval_samples_per_second': 12790.581, 'eval_steps_per_second': 200.812, 'epoch': 5.0}\n",
      "{'loss': 0.1283, 'grad_norm': 0.12763918936252594, 'learning_rate': 0.00017597238261366985, 'epoch': 6.0}\n"
     ]
    },
    {
     "data": {
      "application/vnd.jupyter.widget-view+json": {
       "model_id": "44f9b192afb54a82b51a6673f477a605",
       "version_major": 2,
       "version_minor": 0
      },
      "text/plain": [
       "  0%|          | 0/157 [00:00<?, ?it/s]"
      ]
     },
     "metadata": {},
     "output_type": "display_data"
    },
    {
     "name": "stdout",
     "output_type": "stream",
     "text": [
      "{'eval_loss': 0.129969522356987, 'eval_f1': 0.961242367614776, 'eval_precision': 0.9614252933581583, 'eval_recall': 0.9613, 'eval_accuracy': 0.9613, 'eval_runtime': 0.7893, 'eval_samples_per_second': 12669.037, 'eval_steps_per_second': 198.904, 'epoch': 6.0}\n",
      "{'loss': 0.1174, 'grad_norm': 2.4719347953796387, 'learning_rate': 0.00010511532622604558, 'epoch': 7.0}\n"
     ]
    },
    {
     "data": {
      "application/vnd.jupyter.widget-view+json": {
       "model_id": "f10ab3fa963e491ca459ae27869b0867",
       "version_major": 2,
       "version_minor": 0
      },
      "text/plain": [
       "  0%|          | 0/157 [00:00<?, ?it/s]"
      ]
     },
     "metadata": {},
     "output_type": "display_data"
    },
    {
     "name": "stdout",
     "output_type": "stream",
     "text": [
      "{'eval_loss': 0.12279283255338669, 'eval_f1': 0.9640682937797396, 'eval_precision': 0.9640990308197468, 'eval_recall': 0.9641, 'eval_accuracy': 0.9641, 'eval_runtime': 0.7619, 'eval_samples_per_second': 13125.05, 'eval_steps_per_second': 206.063, 'epoch': 7.0}\n",
      "{'loss': 0.1106, 'grad_norm': 1.9979044198989868, 'learning_rate': 4.8745305214285054e-05, 'epoch': 8.0}\n"
     ]
    },
    {
     "data": {
      "application/vnd.jupyter.widget-view+json": {
       "model_id": "487265d627ee4f38858d96d444a8b6dc",
       "version_major": 2,
       "version_minor": 0
      },
      "text/plain": [
       "  0%|          | 0/157 [00:00<?, ?it/s]"
      ]
     },
     "metadata": {},
     "output_type": "display_data"
    },
    {
     "name": "stdout",
     "output_type": "stream",
     "text": [
      "{'eval_loss': 0.12025178223848343, 'eval_f1': 0.9634540007925865, 'eval_precision': 0.9635174928552249, 'eval_recall': 0.9635, 'eval_accuracy': 0.9635, 'eval_runtime': 0.7837, 'eval_samples_per_second': 12760.486, 'eval_steps_per_second': 200.34, 'epoch': 8.0}\n",
      "{'loss': 0.1056, 'grad_norm': 1.1408836841583252, 'learning_rate': 1.2498764533288465e-05, 'epoch': 9.0}\n"
     ]
    },
    {
     "data": {
      "application/vnd.jupyter.widget-view+json": {
       "model_id": "0a73c2e4a35542a49370a300df8cd4a4",
       "version_major": 2,
       "version_minor": 0
      },
      "text/plain": [
       "  0%|          | 0/157 [00:00<?, ?it/s]"
      ]
     },
     "metadata": {},
     "output_type": "display_data"
    },
    {
     "name": "stdout",
     "output_type": "stream",
     "text": [
      "{'eval_loss': 0.11933530122041702, 'eval_f1': 0.9643829509011197, 'eval_precision': 0.9644782761401038, 'eval_recall': 0.9644, 'eval_accuracy': 0.9644, 'eval_runtime': 0.7708, 'eval_samples_per_second': 12973.777, 'eval_steps_per_second': 203.688, 'epoch': 9.0}\n",
      "{'loss': 0.1031, 'grad_norm': 2.4104082584381104, 'learning_rate': 0.0, 'epoch': 10.0}\n"
     ]
    },
    {
     "data": {
      "application/vnd.jupyter.widget-view+json": {
       "model_id": "5e4163bef1824edfa28230197f481eb9",
       "version_major": 2,
       "version_minor": 0
      },
      "text/plain": [
       "  0%|          | 0/157 [00:00<?, ?it/s]"
      ]
     },
     "metadata": {},
     "output_type": "display_data"
    },
    {
     "name": "stderr",
     "output_type": "stream",
     "text": [
      "Checkpoint destination directory ./results\\checkpoint-9380 already exists and is non-empty. Saving will proceed but saved results may be invalid.\n"
     ]
    },
    {
     "name": "stdout",
     "output_type": "stream",
     "text": [
      "{'eval_loss': 0.11868536472320557, 'eval_f1': 0.9640774850942858, 'eval_precision': 0.9641373508731603, 'eval_recall': 0.9641, 'eval_accuracy': 0.9641, 'eval_runtime': 0.797, 'eval_samples_per_second': 12547.586, 'eval_steps_per_second': 196.997, 'epoch': 10.0}\n",
      "{'train_runtime': 112.5335, 'train_samples_per_second': 5331.745, 'train_steps_per_second': 83.353, 'train_loss': 0.2183222813392753, 'epoch': 10.0}\n"
     ]
    },
    {
     "data": {
      "application/vnd.jupyter.widget-view+json": {
       "model_id": "1b9e40c6da504de29e86018195433347",
       "version_major": 2,
       "version_minor": 0
      },
      "text/plain": [
       "  0%|          | 0/157 [00:00<?, ?it/s]"
      ]
     },
     "metadata": {},
     "output_type": "display_data"
    },
    {
     "data": {
      "text/plain": [
       "{'eval_loss': 0.11933530122041702,\n",
       " 'eval_f1': 0.9643829509011197,\n",
       " 'eval_precision': 0.9644782761401038,\n",
       " 'eval_recall': 0.9644,\n",
       " 'eval_accuracy': 0.9644,\n",
       " 'eval_runtime': 0.7916,\n",
       " 'eval_samples_per_second': 12633.389,\n",
       " 'eval_steps_per_second': 198.344,\n",
       " 'epoch': 10.0}"
      ]
     },
     "execution_count": 13,
     "metadata": {},
     "output_type": "execute_result"
    }
   ],
   "source": [
    "trainer.train()\n",
    "trainer.evaluate()"
   ]
  },
  {
   "cell_type": "code",
   "execution_count": 6,
   "metadata": {},
   "outputs": [
    {
     "name": "stdout",
     "output_type": "stream",
     "text": [
      "torch.Size([64, 24, 7, 7])\n",
      "torch.Size([64, 24, 14, 14])\n",
      "torch.Size([64, 24, 3, 3])\n",
      "torch.Size([64, 24, 12, 12])\n",
      "torch.Size([64, 24, 6, 6])\n",
      "torch.Size([64, 24, 12, 12])\n",
      "torch.Size([64, 24, 3, 3])\n",
      "torch.Size([64, 24, 12, 12])\n"
     ]
    }
   ],
   "source": [
    "import torch\n",
    "import torch.nn as nn\n",
    "\n",
    "x = torch.rand(64, 24, 14, 14)\n",
    "\n",
    "x = nn.AvgPool2d(2)(x)\n",
    "print(x.shape)\n",
    "x = nn.Upsample(scale_factor=2)(x)\n",
    "print(x.shape)\n",
    "x = nn.AvgPool2d(4)(x)\n",
    "print(x.shape)\n",
    "x = nn.Upsample(scale_factor=4)(x)\n",
    "print(x.shape)\n",
    "x = nn.MaxPool2d(2)(x)\n",
    "print(x.shape)\n",
    "x = nn.Upsample(scale_factor=2)(x)\n",
    "print(x.shape)\n",
    "x = nn.MaxPool2d(4)(x)\n",
    "print(x.shape)\n",
    "x = nn.Upsample(scale_factor=4)(x)\n",
    "print(x.shape)"
   ]
  },
  {
   "cell_type": "code",
   "execution_count": 16,
   "metadata": {},
   "outputs": [
    {
     "data": {
      "text/plain": [
       "torch.Size([64, 24, 42, 14])"
      ]
     },
     "execution_count": 16,
     "metadata": {},
     "output_type": "execute_result"
    }
   ],
   "source": [
    "x = torch.rand(64, 24, 14, 14)\n",
    "\n",
    "batch_size, num_channels, H, W = x.size()\n",
    "\n",
    "H_2 = H // 2\n",
    "W_2 = W // 2\n",
    "x = torch.concat(\n",
    "    [\n",
    "        x,\n",
    "        nn.Upsample(size=(H, W))(nn.AdaptiveAvgPool2d((H_2, W_2))(x)),\n",
    "        nn.Upsample(size=(H, W))(nn.AdaptiveMaxPool2d((H_2, W_2))(x)),\n",
    "    ],\n",
    "    dim=2,\n",
    ")\n",
    "x.shape"
   ]
  },
  {
   "cell_type": "code",
   "execution_count": 17,
   "metadata": {},
   "outputs": [
    {
     "ename": "RuntimeError",
     "evalue": "Sizes of tensors must match except in dimension 2. Expected size 14 but got size 12 for tensor number 2 in the list.",
     "output_type": "error",
     "traceback": [
      "\u001b[1;31m---------------------------------------------------------------------------\u001b[0m",
      "\u001b[1;31mRuntimeError\u001b[0m                              Traceback (most recent call last)",
      "Cell \u001b[1;32mIn[17], line 4\u001b[0m\n\u001b[0;32m      1\u001b[0m x \u001b[38;5;241m=\u001b[39m torch\u001b[38;5;241m.\u001b[39mrand(\u001b[38;5;241m64\u001b[39m, \u001b[38;5;241m24\u001b[39m, \u001b[38;5;241m14\u001b[39m, \u001b[38;5;241m14\u001b[39m)\n\u001b[1;32m----> 4\u001b[0m x \u001b[38;5;241m=\u001b[39m \u001b[43mtorch\u001b[49m\u001b[38;5;241;43m.\u001b[39;49m\u001b[43mconcat\u001b[49m\u001b[43m(\u001b[49m\n\u001b[0;32m      5\u001b[0m \u001b[43m    \u001b[49m\u001b[43m[\u001b[49m\n\u001b[0;32m      6\u001b[0m \u001b[43m        \u001b[49m\u001b[43mx\u001b[49m\u001b[43m,\u001b[49m\n\u001b[0;32m      7\u001b[0m \u001b[43m        \u001b[49m\u001b[43mnn\u001b[49m\u001b[38;5;241;43m.\u001b[39;49m\u001b[43mUpsample\u001b[49m\u001b[43m(\u001b[49m\u001b[43mscale_factor\u001b[49m\u001b[38;5;241;43m=\u001b[39;49m\u001b[38;5;241;43m2\u001b[39;49m\u001b[43m)\u001b[49m\u001b[43m(\u001b[49m\u001b[43mnn\u001b[49m\u001b[38;5;241;43m.\u001b[39;49m\u001b[43mAvgPool2d\u001b[49m\u001b[43m(\u001b[49m\u001b[38;5;241;43m2\u001b[39;49m\u001b[43m)\u001b[49m\u001b[43m(\u001b[49m\u001b[43mx\u001b[49m\u001b[43m)\u001b[49m\u001b[43m)\u001b[49m\u001b[43m,\u001b[49m\n\u001b[0;32m      8\u001b[0m \u001b[43m        \u001b[49m\u001b[43mnn\u001b[49m\u001b[38;5;241;43m.\u001b[39;49m\u001b[43mUpsample\u001b[49m\u001b[43m(\u001b[49m\u001b[43mscale_factor\u001b[49m\u001b[38;5;241;43m=\u001b[39;49m\u001b[38;5;241;43m4\u001b[39;49m\u001b[43m)\u001b[49m\u001b[43m(\u001b[49m\u001b[43mnn\u001b[49m\u001b[38;5;241;43m.\u001b[39;49m\u001b[43mAvgPool2d\u001b[49m\u001b[43m(\u001b[49m\u001b[38;5;241;43m4\u001b[39;49m\u001b[43m)\u001b[49m\u001b[43m(\u001b[49m\u001b[43mx\u001b[49m\u001b[43m)\u001b[49m\u001b[43m)\u001b[49m\u001b[43m,\u001b[49m\n\u001b[0;32m      9\u001b[0m \u001b[43m        \u001b[49m\u001b[43mnn\u001b[49m\u001b[38;5;241;43m.\u001b[39;49m\u001b[43mUpsample\u001b[49m\u001b[43m(\u001b[49m\u001b[43mscale_factor\u001b[49m\u001b[38;5;241;43m=\u001b[39;49m\u001b[38;5;241;43m2\u001b[39;49m\u001b[43m)\u001b[49m\u001b[43m(\u001b[49m\u001b[43mnn\u001b[49m\u001b[38;5;241;43m.\u001b[39;49m\u001b[43mMaxPool2d\u001b[49m\u001b[43m(\u001b[49m\u001b[38;5;241;43m2\u001b[39;49m\u001b[43m)\u001b[49m\u001b[43m(\u001b[49m\u001b[43mx\u001b[49m\u001b[43m)\u001b[49m\u001b[43m)\u001b[49m\u001b[43m,\u001b[49m\n\u001b[0;32m     10\u001b[0m \u001b[43m        \u001b[49m\u001b[43mnn\u001b[49m\u001b[38;5;241;43m.\u001b[39;49m\u001b[43mUpsample\u001b[49m\u001b[43m(\u001b[49m\u001b[43mscale_factor\u001b[49m\u001b[38;5;241;43m=\u001b[39;49m\u001b[38;5;241;43m4\u001b[39;49m\u001b[43m)\u001b[49m\u001b[43m(\u001b[49m\u001b[43mnn\u001b[49m\u001b[38;5;241;43m.\u001b[39;49m\u001b[43mMaxPool2d\u001b[49m\u001b[43m(\u001b[49m\u001b[38;5;241;43m4\u001b[39;49m\u001b[43m)\u001b[49m\u001b[43m(\u001b[49m\u001b[43mx\u001b[49m\u001b[43m)\u001b[49m\u001b[43m)\u001b[49m\u001b[43m,\u001b[49m\n\u001b[0;32m     11\u001b[0m \u001b[43m    \u001b[49m\u001b[43m]\u001b[49m\u001b[43m,\u001b[49m\n\u001b[0;32m     12\u001b[0m \u001b[43m    \u001b[49m\u001b[43mdim\u001b[49m\u001b[38;5;241;43m=\u001b[39;49m\u001b[38;5;241;43m2\u001b[39;49m\u001b[43m,\u001b[49m\n\u001b[0;32m     13\u001b[0m \u001b[43m)\u001b[49m\n\u001b[0;32m     15\u001b[0m x\u001b[38;5;241m.\u001b[39mshape\n",
      "\u001b[1;31mRuntimeError\u001b[0m: Sizes of tensors must match except in dimension 2. Expected size 14 but got size 12 for tensor number 2 in the list."
     ]
    }
   ],
   "source": [
    "x = torch.rand(64, 24, 14, 14)\n",
    "\n",
    "\n",
    "x = torch.concat(\n",
    "    [\n",
    "        x,\n",
    "        nn.Upsample(scale_factor=2)(nn.AvgPool2d(2)(x)),\n",
    "        nn.Upsample(scale_factor=4)(nn.AvgPool2d(4)(x)),\n",
    "        nn.Upsample(scale_factor=2)(nn.MaxPool2d(2)(x)),\n",
    "        nn.Upsample(scale_factor=4)(nn.MaxPool2d(4)(x)),\n",
    "    ],\n",
    "    dim=2,\n",
    ")\n",
    "\n",
    "x.shape"
   ]
  },
  {
   "cell_type": "code",
   "execution_count": null,
   "metadata": {},
   "outputs": [],
   "source": []
  }
 ],
 "metadata": {
  "kernelspec": {
   "display_name": "Python 3",
   "language": "python",
   "name": "python3"
  },
  "language_info": {
   "codemirror_mode": {
    "name": "ipython",
    "version": 3
   },
   "file_extension": ".py",
   "mimetype": "text/x-python",
   "name": "python",
   "nbconvert_exporter": "python",
   "pygments_lexer": "ipython3",
   "version": "3.12.1"
  }
 },
 "nbformat": 4,
 "nbformat_minor": 2
}
